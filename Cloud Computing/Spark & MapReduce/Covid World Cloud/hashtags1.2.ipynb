{
 "cells": [
  {
   "cell_type": "code",
   "execution_count": null,
   "id": "42b913d4",
   "metadata": {},
   "outputs": [],
   "source": [
    "import pandas as pd\n",
    "import math\n",
    "import networkx as nx\n",
    "import matplotlib.pyplot as plt\n",
    "import numpy as np\n",
    "from PIL import Image\n",
    "from os import path\n",
    "import os"
   ]
  },
  {
   "cell_type": "code",
   "execution_count": null,
   "id": "8b06176d",
   "metadata": {},
   "outputs": [],
   "source": [
    "#Reads the csv file with all hashtags, it's tweets count and associated hashtags\n",
    "df=pd.read_csv('hashtagsT.csv',delimiter=\",\",names=[\"hashtag\",\"numTweets\",\"associated\"],header=0)"
   ]
  },
  {
   "cell_type": "code",
   "execution_count": null,
   "id": "8afa4862",
   "metadata": {},
   "outputs": [],
   "source": [
    "#Splits the dataset into associated hashtags and hashtags\n",
    "associated = df['associated']\n",
    "hashtags = df['hashtag']"
   ]
  },
  {
   "cell_type": "code",
   "execution_count": null,
   "id": "9082890a",
   "metadata": {},
   "outputs": [],
   "source": [
    "#Calculates the log of the sum of the number of hashtags in each set of associated hashtags\n",
    "hashcount = []\n",
    "freqcount = []\n",
    "for i in range(hashtags.size):\n",
    "    spl = associated.iloc[i].split()\n",
    "    hashcount.append(hashtags.iloc[i])\n",
    "    freqcount.append(math.log(len(spl)))\n"
   ]
  },
  {
   "cell_type": "code",
   "execution_count": null,
   "id": "1c2561df",
   "metadata": {},
   "outputs": [],
   "source": [
    "#Plots the frequency/hashtag chart\n",
    "plt.bar(freqcount,hashtags, align='center')\n",
    "plt.xlabel('Log(Frequencies)')\n",
    "plt.ylabel('hashtags')\n",
    "plt.yticks([])\n",
    "plt.xticks(rotation=100)\n",
    "plt.title(\"Frequency of the associated hashtags\")\n",
    "plt.show()"
   ]
  },
  {
   "cell_type": "code",
   "execution_count": null,
   "id": "417ac8e2",
   "metadata": {},
   "outputs": [],
   "source": [
    "#Sorts the hashtags by frequency\n",
    "freq = []\n",
    "for i in range(hashtags.size):\n",
    "    spl = associated.iloc[i].split()\n",
    "    freq.extend([(hashtags.iloc[i],math.log(len(spl)))])\n",
    "    \n",
    "freq = sorted(freq, key=lambda x: x[1],reverse=True)"
   ]
  },
  {
   "cell_type": "code",
   "execution_count": null,
   "id": "ae3b2930",
   "metadata": {
    "scrolled": true
   },
   "outputs": [],
   "source": [
    "#Splits the dataset into the top 10 most frequent associated hashtags and hashtags\n",
    "tophashcount = []\n",
    "topfreqcount = []\n",
    "for i in range(len(freq[0:10])):\n",
    "    spl = associated.iloc[i].split()\n",
    "    tophashcount.append(freq[i][0])\n",
    "    topfreqcount.append(freq[i][1])"
   ]
  },
  {
   "cell_type": "code",
   "execution_count": null,
   "id": "322e3bb6",
   "metadata": {},
   "outputs": [],
   "source": [
    "plt.bar(tophashcount,topfreqcount, align='center')\n",
    "plt.xlabel('hashtags')\n",
    "plt.ylabel('Log(Frequencies)')\n",
    "plt.xticks(rotation=100)\n",
    "plt.title(\"Frequency of the top 10 most associated hashtags\")\n",
    "plt.show()"
   ]
  }
 ],
 "metadata": {
  "kernelspec": {
   "display_name": "Python 3 (ipykernel)",
   "language": "python",
   "name": "python3"
  },
  "language_info": {
   "codemirror_mode": {
    "name": "ipython",
    "version": 3
   },
   "file_extension": ".py",
   "mimetype": "text/x-python",
   "name": "python",
   "nbconvert_exporter": "python",
   "pygments_lexer": "ipython3",
   "version": "3.9.7"
  }
 },
 "nbformat": 4,
 "nbformat_minor": 5
}
