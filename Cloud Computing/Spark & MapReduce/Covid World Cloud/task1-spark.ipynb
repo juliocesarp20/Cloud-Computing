{
 "cells": [
  {
   "cell_type": "code",
   "execution_count": null,
   "id": "6087d13e",
   "metadata": {},
   "outputs": [],
   "source": [
    "from pyspark.sql.functions import col,expr,count,when,regexp_extract,explode,lit,row_number,udf,collect_list,upper,regexp_replace\n",
    "from pyspark.sql import SparkSession,Row,SQLContext,Window\n",
    "import pyspark.sql.types as T"
   ]
  },
  {
   "cell_type": "code",
   "execution_count": null,
   "id": "0a5003af",
   "metadata": {},
   "outputs": [],
   "source": [
    "#Load spark session\n",
    "spark = SparkSession.builder \\\n",
    " .master(\"yarn\") \\\n",
    " .appName(\"HashtagCount\") \\\n",
    " .config(\"spark.executor.instances\", \"2\") \\\n",
    " .config(\"spark.executor.cores\", \"2\") \\\n",
    " .config(\"spark.executor.memory\", \"1024M\") \\\n",
    " .getOrCreate()\n",
    "sc = spark.sparkContext\n"
   ]
  },
  {
   "cell_type": "code",
   "execution_count": null,
   "id": "4891dd27",
   "metadata": {
    "scrolled": false
   },
   "outputs": [],
   "source": [
    "#Load the dataset\n",
    "df = spark.read.json(\"hdfs:/datasets/covid\")"
   ]
  },
  {
   "cell_type": "code",
   "execution_count": null,
   "id": "3bb4429c",
   "metadata": {},
   "outputs": [],
   "source": [
    "#Create a view for the dataset\n",
    "df.createOrReplaceTempView(\"df2\")"
   ]
  },
  {
   "cell_type": "code",
   "execution_count": null,
   "id": "1b871148",
   "metadata": {},
   "outputs": [],
   "source": [
    "#Extract all hashtags to a array of hashtags\n",
    "dfV = spark.sql(\"\"\"\n",
    "    select  regexp_extract_all(text, '(#\\\\\\\\w+)', 1) as hashtags\n",
    "    from    df2\n",
    "    where   text like '%#%'\n",
    "\"\"\")"
   ]
  },
  {
   "cell_type": "code",
   "execution_count": null,
   "id": "daecc2ae",
   "metadata": {},
   "outputs": [],
   "source": [
    "#Give each row an ID\n",
    "dfT = dfV.withColumn(\"tmp\",lit(\"ABC\"))\n",
    "w = Window().partitionBy('tmp').orderBy(lit('A'))\n",
    "dfT = dfT.withColumn(\"row_id\", row_number().over(w)).drop(\"tmp\")\n",
    "dfT = dfT.withColumn(\"hashtags\",explode(dfT.hashtags))\n",
    "dfT = dfT.withColumn(\"hashtags\",upper(dfT.hashtags))\n"
   ]
  },
  {
   "cell_type": "code",
   "execution_count": null,
   "id": "706f46a8",
   "metadata": {},
   "outputs": [],
   "source": [
    "#Count each time a hashtag appears\n",
    "df2 = dfT.groupBy(upper(dfT.hashtags).alias(\"hashtags\")).count()"
   ]
  },
  {
   "cell_type": "code",
   "execution_count": null,
   "id": "4bfc1a4d",
   "metadata": {},
   "outputs": [],
   "source": [
    "#Merge the tables of hashtags combined by their ID\n",
    "dfT2 = dfT\n",
    "dfT2 = dfT2.alias(\"a\").join(\n",
    "    dfT.withColumnRenamed(\"hashtags\",\"H1\").alias(\"b\"),[((col(\"a.row_id\")==col(\"b.row_id\")) & (~(col(\"a.hashtags\")==col(\"b.H1\"))))],how=\"cross\").drop(dfT.row_id)\n",
    "dfT2 = dfT2.drop(dfT2.row_id).distinct()"
   ]
  },
  {
   "cell_type": "code",
   "execution_count": null,
   "id": "d90aa2d9",
   "metadata": {},
   "outputs": [],
   "source": [
    "#Aggregate the hashtags in a list\n",
    "dfT2 = dfT2.groupBy(\"hashtags\").agg(collect_list(\"H1\").alias(\"H1\"))"
   ]
  },
  {
   "cell_type": "code",
   "execution_count": null,
   "id": "26ebc2a6",
   "metadata": {},
   "outputs": [],
   "source": [
    "#Join the list of hashtags with the counter\n",
    "dfT2 = dfT2.alias(\"a\").join(df2.alias(\"b\"),dfT2.hashtags==df2.hashtags,how=\"left_outer\").drop(df2.hashtags)"
   ]
  },
  {
   "cell_type": "code",
   "execution_count": null,
   "id": "a725f127",
   "metadata": {},
   "outputs": [],
   "source": [
    "#Get all hashtags that appear at least 1000 times\n",
    "dfT2 = dfT2.filter(col(\"count\")>=1000).select(\"hashtags\",\"count\",\"H1\").orderBy(\"hashtags\")\n",
    "#Replace brackets and commas with ''\n",
    "dfT2 = dfT2.withColumn(\"H1\", regexp_replace(col(\"H1\").cast(\"string\"),r'\\[|\\]|,', ''))"
   ]
  },
  {
   "cell_type": "code",
   "execution_count": null,
   "id": "c1c167df",
   "metadata": {},
   "outputs": [],
   "source": [
    "#Write file to disk\n",
    "dfT2.write.option(\"header\",False).option(\"delimiter\",\",\").csv(\"/user/julioferreira/task1/extra\")"
   ]
  }
 ],
 "metadata": {
  "kernelspec": {
   "display_name": "Python 3 (ipykernel)",
   "language": "python",
   "name": "python3"
  },
  "language_info": {
   "codemirror_mode": {
    "name": "ipython",
    "version": 3
   },
   "file_extension": ".py",
   "mimetype": "text/x-python",
   "name": "python",
   "nbconvert_exporter": "python",
   "pygments_lexer": "ipython3",
   "version": "3.9.7"
  }
 },
 "nbformat": 4,
 "nbformat_minor": 5
}
