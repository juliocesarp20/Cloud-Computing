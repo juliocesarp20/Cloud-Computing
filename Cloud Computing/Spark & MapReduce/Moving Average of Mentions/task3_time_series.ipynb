{
 "cells": [
  {
   "cell_type": "code",
   "execution_count": null,
   "id": "42b913d4",
   "metadata": {},
   "outputs": [],
   "source": [
    "import pandas as pd\n",
    "import matplotlib.pyplot as plt\n",
    "import numpy as np\n",
    "import seaborn as sns"
   ]
  },
  {
   "cell_type": "code",
   "execution_count": null,
   "id": "8b06176d",
   "metadata": {},
   "outputs": [],
   "source": [
    "#Loads the csv file of dates and the moving average\n",
    "df=pd.read_csv('task3.csv',delimiter=\",\",names=[\"dates\",\"moving_average\"],header=0)"
   ]
  },
  {
   "cell_type": "code",
   "execution_count": null,
   "id": "dabda777",
   "metadata": {},
   "outputs": [],
   "source": [
    "#Format the date\n",
    "df['dates'] = pd.to_datetime(df['dates'], format='%Y-%m-%d').dt.strftime('%d/%m')"
   ]
  },
  {
   "cell_type": "code",
   "execution_count": null,
   "id": "9082890a",
   "metadata": {
    "scrolled": true
   },
   "outputs": [],
   "source": [
    "#Plot the moving average\n",
    "plt.figure( figsize = ( 12, 5))\n",
    "\n",
    "sns.lineplot( x = 'dates',\n",
    "             y = 'moving_average',\n",
    "             data = df[0:+7],\n",
    "            color='blue').lines[0].set_linestyle(\"--\")\n",
    "\n",
    "sns.lineplot( x = 'dates',\n",
    "             y = 'moving_average',\n",
    "             data = df[+6:],\n",
    "             color='blue',\n",
    "             label = 'Moving Average of Covid-Related Tweets Containing Political Mentions In The US')\n",
    "  \n",
    "plt.xlabel( 'Dates')\n",
    "  \n",
    "# setting customized ticklabels for x axis\n",
    "\n",
    "plt.xticks(rotation=90)  \n",
    "plt.ylabel('Political Mentions')\n",
    "plt.title(\"Moving Average: Political Mentions in US covid-related tweets from 03/29/2020 to 04/30/2020\")\n",
    "plt.show()"
   ]
  }
 ],
 "metadata": {
  "kernelspec": {
   "display_name": "Python 3 (ipykernel)",
   "language": "python",
   "name": "python3"
  },
  "language_info": {
   "codemirror_mode": {
    "name": "ipython",
    "version": 3
   },
   "file_extension": ".py",
   "mimetype": "text/x-python",
   "name": "python",
   "nbconvert_exporter": "python",
   "pygments_lexer": "ipython3",
   "version": "3.9.7"
  }
 },
 "nbformat": 4,
 "nbformat_minor": 5
}
