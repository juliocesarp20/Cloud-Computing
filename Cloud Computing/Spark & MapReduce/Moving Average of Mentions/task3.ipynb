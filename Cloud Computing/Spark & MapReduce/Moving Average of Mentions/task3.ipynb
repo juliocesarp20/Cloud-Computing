{
 "cells": [
  {
   "cell_type": "code",
   "execution_count": null,
   "id": "0f7b1dfc",
   "metadata": {},
   "outputs": [],
   "source": [
    "from pyspark.sql.functions import col, max as max_,min as min_,datediff,expr,count, when, lower as lower_,date_format,avg,lit,row_number\n",
    "from pyspark.sql import SparkSession,Row,Window"
   ]
  },
  {
   "cell_type": "code",
   "execution_count": null,
   "id": "d111231c",
   "metadata": {
    "scrolled": true
   },
   "outputs": [],
   "source": [
    "#Load spark session\n",
    "spark = SparkSession.builder \\\n",
    " .master(\"yarn\") \\\n",
    " .appName(\"Task3\") \\\n",
    " .config(\"spark.executor.instances\", \"2\") \\\n",
    " .config(\"spark.executor.cores\", \"2\") \\\n",
    " .config(\"spark.executor.memory\", \"1024M\") \\\n",
    " .getOrCreate()\n",
    "sc = spark.sparkContext\n"
   ]
  },
  {
   "cell_type": "code",
   "execution_count": null,
   "id": "7893d684",
   "metadata": {
    "scrolled": true
   },
   "outputs": [],
   "source": [
    "#Creates a list with the top us politicians in 2020\n",
    "names = [\"Biden\",\"Trump\",\"Pelosi\",\"McConnell\",\"Schumer\",\"McCarthy\",\"President\",\"Congress\"]\n",
    "names = [name.lower() for name in names]"
   ]
  },
  {
   "cell_type": "code",
   "execution_count": null,
   "id": "13610393",
   "metadata": {},
   "outputs": [],
   "source": [
    "#Loads the dataset\n",
    "df = spark.read.json(\"hdfs:/datasets/covid\")"
   ]
  },
  {
   "cell_type": "code",
   "execution_count": null,
   "id": "7fd062cf",
   "metadata": {},
   "outputs": [],
   "source": [
    "#Filter the dataset to tweets located in the US\n",
    "df2 = df.filter(df.country_code==\"US\")"
   ]
  },
  {
   "cell_type": "code",
   "execution_count": null,
   "id": "caa1ae42",
   "metadata": {},
   "outputs": [],
   "source": [
    "#Finds all tweets that contain at least one word of the names list\n",
    "df2 = df2.where(\n",
    "    (lower_(col(\"text\")).rlike(\"|\".join([\"(\" + name + \")\" for name in names])))\n",
    ")"
   ]
  },
  {
   "cell_type": "code",
   "execution_count": null,
   "id": "7454ab60",
   "metadata": {},
   "outputs": [],
   "source": [
    "#Formats the date and group the tweets by date, then count the number of tweets by date\n",
    "df2 = df2.select(date_format('created_at','yyyy-MM-dd').alias('date')).groupby('date').count()"
   ]
  },
  {
   "cell_type": "code",
   "execution_count": null,
   "id": "910a4ac7",
   "metadata": {},
   "outputs": [],
   "source": [
    "#Creates a window to calculate the moving average over the count column\n",
    "def days(i):\n",
    "    return 86400*i\n",
    "\n",
    "df2 = df2.withColumn('date', df2.date.cast('timestamp'))\n",
    "W = Window.orderBy(col(\"date\").cast('long')).rangeBetween(-days(6), 0)\n",
    "\n",
    "df2 = df2.withColumn('7daysMA', avg(\"count\").over(W))\n",
    "w=Window.orderBy(lit(1))\n",
    "\n",
    "#Mark the 7 first days to 0\n",
    "df2 = df2.withColumn(\"row_id\",row_number().over(w))\n",
    "df2 = df2.withColumn(\"7daysMA\",when(col(\"row_id\") <= 7,0).otherwise(col(\"7daysMA\")))\n",
    "df2 = df2.select(date_format(df2.date,\"yyyy-MM-dd\").alias(\"date\"),\"7daysMA\")"
   ]
  },
  {
   "cell_type": "code",
   "execution_count": null,
   "id": "11307ebf",
   "metadata": {},
   "outputs": [],
   "source": [
    "#Writes everything to disk\n",
    "df2.write.option(\"header\",False).option(\"delimiter\",\",\").csv(\"/user/julioferreira/task3\")"
   ]
  },
  {
   "cell_type": "code",
   "execution_count": null,
   "id": "c69906b6",
   "metadata": {},
   "outputs": [],
   "source": [
    "sc.stop()"
   ]
  }
 ],
 "metadata": {
  "kernelspec": {
   "display_name": "Python 3 (ipykernel)",
   "language": "python",
   "name": "python3"
  },
  "language_info": {
   "codemirror_mode": {
    "name": "ipython",
    "version": 3
   },
   "file_extension": ".py",
   "mimetype": "text/x-python",
   "name": "python",
   "nbconvert_exporter": "python",
   "pygments_lexer": "ipython3",
   "version": "3.9.7"
  }
 },
 "nbformat": 4,
 "nbformat_minor": 5
}
