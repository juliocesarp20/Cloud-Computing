{
 "cells": [
  {
   "cell_type": "code",
   "execution_count": null,
   "id": "42b913d4",
   "metadata": {},
   "outputs": [],
   "source": [
    "import pandas as pd\n",
    "from wordcloud import WordCloud\n",
    "import matplotlib.pyplot as plt\n",
    "import numpy as np\n",
    "from PIL import Image\n",
    "from os import path\n",
    "import os"
   ]
  },
  {
   "cell_type": "code",
   "execution_count": null,
   "id": "8b06176d",
   "metadata": {},
   "outputs": [],
   "source": [
    "#Reads the csv file with all hashtags, it's tweets count and associated hashtags\n",
    "df=pd.read_csv('hashtagsT.csv',delimiter=\",\",names=[\"hashtag\",\"numTweets\",\"associated\"],header=0)\n",
    "data = df.nlargest(50,'numTweets')\n",
    "data = data.set_index('hashtag').to_dict()['numTweets']"
   ]
  },
  {
   "cell_type": "code",
   "execution_count": null,
   "id": "6d1b5b3e",
   "metadata": {},
   "outputs": [],
   "source": [
    "#Crates a word cloud with the top 50 hashtags\n",
    "wc = WordCloud(width=800, height=800, max_words=50).generate_from_frequencies(data)"
   ]
  },
  {
   "cell_type": "code",
   "execution_count": null,
   "id": "1c2561df",
   "metadata": {},
   "outputs": [],
   "source": [
    "#Shows the word cloud\n",
    "plt.figure(figsize=(10, 10))\n",
    "plt.imshow(wc)\n",
    "plt.axis('off')\n",
    "plt.title(\"Word Cloud of Hashtag Mentions\")\n",
    "plt.show()"
   ]
  }
 ],
 "metadata": {
  "kernelspec": {
   "display_name": "Python 3 (ipykernel)",
   "language": "python",
   "name": "python3"
  },
  "language_info": {
   "codemirror_mode": {
    "name": "ipython",
    "version": 3
   },
   "file_extension": ".py",
   "mimetype": "text/x-python",
   "name": "python",
   "nbconvert_exporter": "python",
   "pygments_lexer": "ipython3",
   "version": "3.9.7"
  }
 },
 "nbformat": 4,
 "nbformat_minor": 5
}
