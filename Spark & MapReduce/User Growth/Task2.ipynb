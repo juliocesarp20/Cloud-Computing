{
 "cells": [
  {
   "cell_type": "code",
   "execution_count": null,
   "id": "0f7b1dfc",
   "metadata": {},
   "outputs": [],
   "source": [
    "from pyspark.sql.functions import col, max as max_,min as min_,datediff,expr,count, when\n",
    "from pyspark.sql import SparkSession,Row,Window"
   ]
  },
  {
   "cell_type": "code",
   "execution_count": null,
   "id": "d111231c",
   "metadata": {
    "scrolled": true
   },
   "outputs": [],
   "source": [
    "#Load spark session\n",
    "spark = SparkSession.builder \\\n",
    " .master(\"yarn\") \\\n",
    " .appName(\"Task2\") \\\n",
    " .config(\"spark.executor.instances\", \"2\") \\\n",
    " .config(\"spark.executor.cores\", \"2\") \\\n",
    " .config(\"spark.executor.memory\", \"1024M\") \\\n",
    " .getOrCreate()\n",
    "sc = spark.sparkContext\n"
   ]
  },
  {
   "cell_type": "code",
   "execution_count": null,
   "id": "13610393",
   "metadata": {},
   "outputs": [],
   "source": [
    "#Load the dataset and filters it by verified users\n",
    "df = spark.read.json(\"hdfs:/datasets/covid\")\n",
    "dfV = df.filter(df.verified==\"TRUE\").filter(df.created_at.isNotNull())"
   ]
  },
  {
   "cell_type": "code",
   "execution_count": null,
   "id": "6e977bd4",
   "metadata": {},
   "outputs": [],
   "source": [
    "#Create a window with the user_id and use it to get the follower count at the dates of the first tweet and last tweet\n",
    "w = Window.partitionBy('user_id')\n",
    "df1 = dfV.withColumn('maxD', max_('created_at').over(w)).where(col('created_at') == col('maxD')).drop('maxD').select(\"user_id\",\"screen_name\",col(\"followers_count\").alias(\"fcend\"))\n",
    "df2 = dfV.withColumn('minD', min_('created_at').over(w)).where(col('created_at') == col('minD')).drop('minD').select(\"user_id\",\"screen_name\",col(\"followers_count\").alias(\"fcstart\"))"
   ]
  },
  {
   "cell_type": "code",
   "execution_count": null,
   "id": "97eba8cc",
   "metadata": {},
   "outputs": [],
   "source": [
    "#Gets the follower increase of each user then filters it to only the top 1000 users\n",
    "increase = df1.alias(\"df1\").join(df2.alias(\"df2\"), on=\"user_id\").withColumn(\"followers_increase\", df1.fcend-df2.fcstart)\n",
    "increase = increase.sort(increase.followers_increase.desc()).limit(1000).select(\"df1.user_id\",\"df1.screen_name\",\"followers_increase\")"
   ]
  },
  {
   "cell_type": "code",
   "execution_count": null,
   "id": "f022abe2",
   "metadata": {},
   "outputs": [],
   "source": [
    "#Counts the number of tweets of each user and gets the top 1000\n",
    "actives = df.groupBy(\"user_id\").agg(count(\"user_id\").alias(\"count\")).sort(col(\"count\").desc()).limit(1000)"
   ]
  },
  {
   "cell_type": "code",
   "execution_count": null,
   "id": "07b3d278",
   "metadata": {},
   "outputs": [],
   "source": [
    "#Creates a top_active column for the verified users who are also in the top active\n",
    "actives_increase = increase.alias(\"a\").join(actives.alias(\"b\"),[actives.user_id==increase.user_id],how='left_outer').withColumn(\"top_active\",when(col(\"count\").isNull(),0).otherwise(1)).select(\"a.screen_name\",\"a.followers_increase\",\"top_active\")"
   ]
  },
  {
   "cell_type": "code",
   "execution_count": null,
   "id": "b4fbe336",
   "metadata": {},
   "outputs": [],
   "source": [
    "#Writes top 1000 verified to disk\n",
    "actives_increase.write.option(\"header\",False).option(\"delimiter\",\",\").csv(\"/user/julioferreira/task2/allactives\")"
   ]
  },
  {
   "cell_type": "code",
   "execution_count": null,
   "id": "72f685c5",
   "metadata": {},
   "outputs": [],
   "source": [
    "actives_increase = actives_increase.filter(actives_increase.top_active==1)"
   ]
  },
  {
   "cell_type": "code",
   "execution_count": null,
   "id": "13828c78",
   "metadata": {},
   "outputs": [],
   "source": [
    "#Writes top 1000 verified who are also top 1000 active to disk\n",
    "actives_increase.write.option(\"header\",False).option(\"delimiter\",\",\").csv(\"/user/julioferreira/task2/onlytopactives\")"
   ]
  },
  {
   "cell_type": "code",
   "execution_count": null,
   "id": "c69906b6",
   "metadata": {},
   "outputs": [],
   "source": [
    "sc.stop()"
   ]
  }
 ],
 "metadata": {
  "kernelspec": {
   "display_name": "Python 3 (ipykernel)",
   "language": "python",
   "name": "python3"
  },
  "language_info": {
   "codemirror_mode": {
    "name": "ipython",
    "version": 3
   },
   "file_extension": ".py",
   "mimetype": "text/x-python",
   "name": "python",
   "nbconvert_exporter": "python",
   "pygments_lexer": "ipython3",
   "version": "3.9.7"
  }
 },
 "nbformat": 4,
 "nbformat_minor": 5
}
